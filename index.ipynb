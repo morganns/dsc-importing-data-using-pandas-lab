{
 "cells": [
  {
   "cell_type": "markdown",
   "metadata": {},
   "source": [
    "# Importing Data Using Pandas - Lab\n",
    "\n",
    "## Introduction\n",
    "\n",
    "In this lab, you'll get some practice with loading files with summary or metadata, and if you find that easy, the optional \"level up\" content covers loading data from a corrupted csv file.\n",
    "\n",
    "## Objectives\n",
    "You will be able to:\n",
    "\n",
    "- Use pandas to import data from a CSV and and an Excel spreadsheet  \n",
    "\n",
    "##  Loading Files with Summary or Meta Data\n",
    "\n",
    "Load either of the files `'Zipcode_Demos.csv'` or `'Zipcode_Demos.xlsx'`. What's going on with this dataset? Clean it up into a useable format and describe the nuances of how the data is currently formatted.\n",
    "\n",
    "All data files are stored in a folder titled `'Data'`."
   ]
  },
  {
   "cell_type": "code",
   "execution_count": 5,
   "metadata": {},
   "outputs": [],
   "source": [
    "# Import pandas using the standard alias\n",
    "\n",
    "import pandas as pd"
   ]
  },
  {
   "cell_type": "code",
   "execution_count": 13,
   "metadata": {},
   "outputs": [
    {
     "name": "stdout",
     "output_type": "stream",
     "text": [
      "   0  Average Statistics Unnamed: 2 Unnamed: 3 Unnamed: 4 Unnamed: 5  \\\n",
      "0  1                 NaN          0        NaN        NaN        NaN   \n",
      "1  2   JURISDICTION NAME    10005.8        NaN        NaN        NaN   \n",
      "2  3  COUNT PARTICIPANTS        9.4        NaN        NaN        NaN   \n",
      "3  4        COUNT FEMALE        4.8        NaN        NaN        NaN   \n",
      "4  5      PERCENT FEMALE      0.404        NaN        NaN        NaN   \n",
      "\n",
      "  Unnamed: 6 Unnamed: 7 Unnamed: 8 Unnamed: 9  ... Unnamed: 37 Unnamed: 38  \\\n",
      "0        NaN        NaN        NaN        NaN  ...         NaN         NaN   \n",
      "1        NaN        NaN        NaN        NaN  ...         NaN         NaN   \n",
      "2        NaN        NaN        NaN        NaN  ...         NaN         NaN   \n",
      "3        NaN        NaN        NaN        NaN  ...         NaN         NaN   \n",
      "4        NaN        NaN        NaN        NaN  ...         NaN         NaN   \n",
      "\n",
      "  Unnamed: 39 Unnamed: 40 Unnamed: 41 Unnamed: 42 Unnamed: 43 Unnamed: 44  \\\n",
      "0         NaN         NaN         NaN         NaN         NaN         NaN   \n",
      "1         NaN         NaN         NaN         NaN         NaN         NaN   \n",
      "2         NaN         NaN         NaN         NaN         NaN         NaN   \n",
      "3         NaN         NaN         NaN         NaN         NaN         NaN   \n",
      "4         NaN         NaN         NaN         NaN         NaN         NaN   \n",
      "\n",
      "  Unnamed: 45 Unnamed: 46  \n",
      "0         NaN         NaN  \n",
      "1         NaN         NaN  \n",
      "2         NaN         NaN  \n",
      "3         NaN         NaN  \n",
      "4         NaN         NaN  \n",
      "\n",
      "[5 rows x 47 columns]\n"
     ]
    }
   ],
   "source": [
    "# Import the file and print the first 5 rows\n",
    "zipcode_demos_df = pd.read_csv('Zipcode_Demos.csv')\n",
    "print(zipcode_demos_df.head()) #You can specify the rows in the head parenthesis"
   ]
  },
  {
   "cell_type": "code",
   "execution_count": 8,
   "metadata": {},
   "outputs": [
    {
     "name": "stdout",
     "output_type": "stream",
     "text": [
      "C:\\Users\\Dell\\Flatiron\\Importing_Data_Using_Pandas_Lab\\dsc-importing-data-using-pandas-lab\n"
     ]
    }
   ],
   "source": [
    "# import os\n",
    "# print(os.getcwd())  # This prints the current working directory. It has helped e to locate and move the file outside the data folder\n"
   ]
  },
  {
   "cell_type": "code",
   "execution_count": 14,
   "metadata": {},
   "outputs": [
    {
     "name": "stdout",
     "output_type": "stream",
     "text": [
      "     0 Average Statistics Unnamed: 2 Unnamed: 3 Unnamed: 4 Unnamed: 5  \\\n",
      "52  53              10006          6          2       0.33          4   \n",
      "53  54              10007          1          0          0          1   \n",
      "54  55              10009          2          0          0          2   \n",
      "55  56              10010          0          0          0          0   \n",
      "56  57              10011          3          2       0.67          1   \n",
      "\n",
      "   Unnamed: 6 Unnamed: 7 Unnamed: 8 Unnamed: 9  ... Unnamed: 37 Unnamed: 38  \\\n",
      "52       0.67          0          0          6  ...           6         100   \n",
      "53          1          0          0          1  ...           1         100   \n",
      "54          1          0          0          2  ...           2         100   \n",
      "55          0          0          0          0  ...           0           0   \n",
      "56       0.33          0          0          3  ...           3         100   \n",
      "\n",
      "   Unnamed: 39 Unnamed: 40 Unnamed: 41 Unnamed: 42 Unnamed: 43 Unnamed: 44  \\\n",
      "52           0           0           6           1           0           0   \n",
      "53           1           1           0           0           0           0   \n",
      "54           0           0           2           1           0           0   \n",
      "55           0           0           0           0           0           0   \n",
      "56           0           0           3           1           0           0   \n",
      "\n",
      "   Unnamed: 45 Unnamed: 46  \n",
      "52           6         100  \n",
      "53           1         100  \n",
      "54           2         100  \n",
      "55           0           0  \n",
      "56           3         100  \n",
      "\n",
      "[5 rows x 47 columns]\n"
     ]
    }
   ],
   "source": [
    "# Print the last 5 rows of df\n",
    "print(zipcode_demos_df.tail())"
   ]
  },
  {
   "cell_type": "code",
   "execution_count": null,
   "metadata": {},
   "outputs": [],
   "source": [
    "# What is going on with this data set? Anything unusual?\n",
    "Column Headers: The dataset has multiple columns labeled as \"Unnamed,\" which contain mostly NaN values. This suggests that the file may contain extraneous columns or poorly formatted data that might need cleaning.\n",
    "\n",
    "Row Structure: The first few rows seem to contain descriptions like \"JURISDICTION NAME\" and \"COUNT PARTICIPANTS\" under the \"Average Statistics\" column, rather than actual data values. This suggests that these rows are metadata or labels rather than part of the primary dataset.\n",
    "\n",
    "First Row Numbering: The first column appears to contain row numbers (e.g., 1, 2, 3), which usually aren’t necessary as pandas assigns its own index to each row. This could mean the dataset was initially formatted for human readability rather than for direct analysis.\n",
    "\n",
    "NaN Values: Many columns and rows contain NaN values, indicating that the dataset may need substantial cleaning to remove unnecessary columns or fill in missing values before analysis.\n",
    "\n",
    "Potential Header Row Misalignment: The relevant headers might be further down in the dataset, rather than in the default top row. This would require us to identify the actual header row and reassign it as the DataFrame's header."
   ]
  },
  {
   "cell_type": "code",
   "execution_count": 16,
   "metadata": {},
   "outputs": [
    {
     "name": "stdout",
     "output_type": "stream",
     "text": [
      "1  4.0  0.0    4.8  0.0  0.0  0.0  0.0  0.0  0.0  0.0  ...  0.0  0.0  0.0  \\\n",
      "0    5  0.0  0.404  0.0  0.0  0.0  0.0  0.0  0.0  0.0  ...  0.0  0.0  0.0   \n",
      "1    6  0.0  4.600  0.0  0.0  0.0  0.0  0.0  0.0  0.0  ...  0.0  0.0  0.0   \n",
      "2    7  0.0  0.396  0.0  0.0  0.0  0.0  0.0  0.0  0.0  ...  0.0  0.0  0.0   \n",
      "3    8  0.0  0.000  0.0  0.0  0.0  0.0  0.0  0.0  0.0  ...  0.0  0.0  0.0   \n",
      "4    9  0.0  0.000  0.0  0.0  0.0  0.0  0.0  0.0  0.0  ...  0.0  0.0  0.0   \n",
      "\n",
      "1  0.0  0.0  0.0  0.0  0.0  0.0  0.0  \n",
      "0  0.0  0.0  0.0  0.0  0.0  0.0  0.0  \n",
      "1  0.0  0.0  0.0  0.0  0.0  0.0  0.0  \n",
      "2  0.0  0.0  0.0  0.0  0.0  0.0  0.0  \n",
      "3  0.0  0.0  0.0  0.0  0.0  0.0  0.0  \n",
      "4  0.0  0.0  0.0  0.0  0.0  0.0  0.0  \n",
      "\n",
      "[5 rows x 47 columns]\n"
     ]
    }
   ],
   "source": [
    "# Clean up the dataset\n",
    "# Step 1: Drop unnecessary rows at the top (e.g., first row if it contains extraneous headers or metadata)\n",
    "zipcode_demos_df = zipcode_demos_df.drop([0])\n",
    "\n",
    "# Step 2: Reassign the column names based on the new first row (if the new first row has the actual headers)\n",
    "zipcode_demos_df.columns = zipcode_demos_df.iloc[0]  # Set the first row as the header\n",
    "zipcode_demos_df = zipcode_demos_df.drop(1)  # Drop the row now used as header\n",
    "\n",
    "# Step 3: Drop any columns that are completely empty or contain only NaN values\n",
    "zipcode_demos_df = zipcode_demos_df.dropna(axis=1, how='all')\n",
    "\n",
    "# Step 4: Reset the index to clean up the DataFrame structure\n",
    "zipcode_demos_df = zipcode_demos_df.reset_index(drop=True)\n",
    "\n",
    "# Step 5: Convert relevant columns to numeric if applicable (to handle \"object\" type columns that contain numbers)\n",
    "zipcode_demos_df = zipcode_demos_df.apply(pd.to_numeric, errors='coerce').fillna(0)\n",
    "\n",
    "# Display the cleaned DataFrame\n",
    "print(zipcode_demos_df.head())"
   ]
  },
  {
   "cell_type": "markdown",
   "metadata": {},
   "source": [
    "## Level Up (Optional) - Loading Corrupt CSV files\n",
    "\n",
    "Occasionally, you encounter some really ill-formatted data. One example of this can be data that has strings containing commas in a csv file. Under the standard protocol, when this occurs, one is supposed to use quotes to differentiate between the commas denoting fields and the commas within those fields themselves. For example, we could have a table like this:  \n",
    "\n",
    "`ReviewerID,Rating,N_reviews,Review,VenueID\n",
    "123456,4,137,This restaurant was pretty good, we had a great time.,98765`\n",
    "\n",
    "Which should be saved like this if it were a csv (to avoid confusion with the commas in the Review text):\n",
    "`\"ReviewerID\",\"Rating\",\"N_reviews\",\"Review\",\"VenueID\"\n",
    "\"123456\",\"4\",\"137\",\"This restaurant was pretty good, we had a great time.\",\"98765\"`\n",
    "\n",
    "Attempt to import the corrupt file, or at least a small preview of it. It is appropriately titled `'Yelp_Reviews_Corrupt.csv'`. Investigate some of the intricacies of skipping rows to then pass over this error and comment on what you think is going on."
   ]
  },
  {
   "cell_type": "code",
   "execution_count": null,
   "metadata": {},
   "outputs": [],
   "source": [
    "# Hint: Here's a useful programming pattern to use\n",
    "try:\n",
    "    # Do something\n",
    "except Exception as e:\n",
    "    # Handle your exception e"
   ]
  },
  {
   "cell_type": "code",
   "execution_count": 23,
   "metadata": {},
   "outputs": [
    {
     "name": "stdout",
     "output_type": "stream",
     "text": [
      "An error occurred: read_csv() got an unexpected keyword argument 'on_bad_lines'\n"
     ]
    }
   ],
   "source": [
    "import pandas as pd\n",
    "\n",
    "# Attempt to load the CSV file while skipping rows with inconsistent column counts\n",
    "try:\n",
    "    # Using 'on_bad_lines' to skip rows with errors in column counts\n",
    "    yelp_reviews_df = pd.read_csv('Yelp_Reviews_Corrupt.csv', on_bad_lines='skip')\n",
    "   \n",
    "    # Print the first 5 rows to confirm successful loading\n",
    "    print(yelp_reviews_df.head())\n",
    "   \n",
    "except Exception as e:\n",
    "    # Print the exception message if an error occurs\n",
    "    print(\"An error occurred:\", e)"
   ]
  },
  {
   "cell_type": "code",
   "execution_count": 24,
   "metadata": {},
   "outputs": [
    {
     "name": "stdout",
     "output_type": "stream",
     "text": [
      "  Unnamed: 0             business_id cool        date funny  \\\n",
      "0          1  pomGBqfbxcqPv14c3XH-ZQ    0  2012-11-13     0   \n",
      "1          2  jtQARsP6P-LbkyjbO1qNGg    1  2014-10-23     1   \n",
      "2          4  Ums3gaP2qM3W1XcA5r6SsQ    0  2014-09-05     0   \n",
      "3          5  vgfcTvK81oD4r50NMjU2Ag    0  2011-02-25     0   \n",
      "4         10  yFumR3CWzpfvTH2FCthvVw    0  2016-06-15     0   \n",
      "\n",
      "                review_id stars  \\\n",
      "0  dDl8zu1vWPdKGihJrwQbpw     5   \n",
      "1  LZp4UX5zK3e-c5ZGSeo3kA     1   \n",
      "2  jsDu6QEJHbwP2Blom1PLCA     5   \n",
      "3  pfavA0hr3nyqO61oupj-lA     1   \n",
      "4  STiFMww2z31siPY7BWNC2g     5   \n",
      "\n",
      "                                                text useful  \\\n",
      "0  I love this place! My fiance And I go here atl...      0   \n",
      "1  Terrible. Dry corn bread. Rib tips were all fa...      3   \n",
      "2  Delicious healthy food. The steak is amazing. ...      0   \n",
      "3  This place sucks. The customer service is horr...      2   \n",
      "4  I have been an Emerald Club member for a numbe...      0   \n",
      "\n",
      "                  user_id  \n",
      "0  msQe1u7Z_XuqjGoqhB0J5g  \n",
      "1  msQe1u7Z_XuqjGoqhB0J5g  \n",
      "2  msQe1u7Z_XuqjGoqhB0J5g  \n",
      "3  msQe1u7Z_XuqjGoqhB0J5g  \n",
      "4  TlvV-xJhmh7LCwJYXkV-cg  \n"
     ]
    },
    {
     "name": "stderr",
     "output_type": "stream",
     "text": [
      "b'Skipping line 2331: expected 10 fields, saw 11\\nSkipping line 2340: expected 10 fields, saw 12\\nSkipping line 2341: expected 10 fields, saw 13\\nSkipping line 2343: expected 10 fields, saw 18\\nSkipping line 2349: expected 10 fields, saw 12\\nSkipping line 2350: expected 10 fields, saw 16\\nSkipping line 2352: expected 10 fields, saw 12\\nSkipping line 2358: expected 10 fields, saw 13\\nSkipping line 2359: expected 10 fields, saw 11\\nSkipping line 2379: expected 10 fields, saw 11\\nSkipping line 2381: expected 10 fields, saw 12\\nSkipping line 2382: expected 10 fields, saw 12\\nSkipping line 2384: expected 10 fields, saw 11\\nSkipping line 2386: expected 10 fields, saw 12\\nSkipping line 2388: expected 10 fields, saw 12\\nSkipping line 2389: expected 10 fields, saw 13\\nSkipping line 2392: expected 10 fields, saw 15\\nSkipping line 2393: expected 10 fields, saw 18\\nSkipping line 2394: expected 10 fields, saw 15\\nSkipping line 2407: expected 10 fields, saw 12\\nSkipping line 2427: expected 10 fields, saw 11\\nSkipping line 2430: expected 10 fields, saw 12\\nSkipping line 2438: expected 10 fields, saw 17\\nSkipping line 2439: expected 10 fields, saw 11\\nSkipping line 2440: expected 10 fields, saw 11\\nSkipping line 2441: expected 10 fields, saw 11\\nSkipping line 2442: expected 10 fields, saw 12\\nSkipping line 2445: expected 10 fields, saw 13\\nSkipping line 2446: expected 10 fields, saw 12\\nSkipping line 2473: expected 10 fields, saw 13\\nSkipping line 2474: expected 10 fields, saw 11\\nSkipping line 2475: expected 10 fields, saw 12\\nSkipping line 2485: expected 10 fields, saw 12\\nSkipping line 2487: expected 10 fields, saw 15\\nSkipping line 2488: expected 10 fields, saw 11\\nSkipping line 2496: expected 10 fields, saw 20\\nSkipping line 2504: expected 10 fields, saw 13\\nSkipping line 2505: expected 10 fields, saw 13\\nSkipping line 2507: expected 10 fields, saw 11\\nSkipping line 2521: expected 10 fields, saw 15\\nSkipping line 2522: expected 10 fields, saw 12\\nSkipping line 2525: expected 10 fields, saw 13\\nSkipping line 2533: expected 10 fields, saw 12\\nSkipping line 2548: expected 10 fields, saw 11\\nSkipping line 2561: expected 10 fields, saw 14\\nSkipping line 2563: expected 10 fields, saw 15\\nSkipping line 2564: expected 10 fields, saw 15\\nSkipping line 2565: expected 10 fields, saw 11\\nSkipping line 2571: expected 10 fields, saw 13\\nSkipping line 2574: expected 10 fields, saw 20\\nSkipping line 2575: expected 10 fields, saw 14\\nSkipping line 2577: expected 10 fields, saw 12\\nSkipping line 2583: expected 10 fields, saw 12\\nSkipping line 2584: expected 10 fields, saw 13\\nSkipping line 2621: expected 10 fields, saw 15\\nSkipping line 2622: expected 10 fields, saw 12\\nSkipping line 2631: expected 10 fields, saw 13\\nSkipping line 2632: expected 10 fields, saw 12\\nSkipping line 2633: expected 10 fields, saw 12\\nSkipping line 2636: expected 10 fields, saw 11\\nSkipping line 2640: expected 10 fields, saw 11\\nSkipping line 2641: expected 10 fields, saw 11\\nSkipping line 2674: expected 10 fields, saw 11\\nSkipping line 2676: expected 10 fields, saw 16\\nSkipping line 2706: expected 10 fields, saw 14\\nSkipping line 2708: expected 10 fields, saw 12\\nSkipping line 2712: expected 10 fields, saw 17\\nSkipping line 2714: expected 10 fields, saw 13\\nSkipping line 2715: expected 10 fields, saw 13\\nSkipping line 2737: expected 10 fields, saw 11\\nSkipping line 2746: expected 10 fields, saw 11\\nSkipping line 2752: expected 10 fields, saw 11\\nSkipping line 2753: expected 10 fields, saw 15\\nSkipping line 2754: expected 10 fields, saw 11\\nSkipping line 2758: expected 10 fields, saw 15\\nSkipping line 2761: expected 10 fields, saw 12\\nSkipping line 2762: expected 10 fields, saw 23\\nSkipping line 2767: expected 10 fields, saw 11\\nSkipping line 2769: expected 10 fields, saw 13\\nSkipping line 2771: expected 10 fields, saw 11\\nSkipping line 2785: expected 10 fields, saw 14\\nSkipping line 2787: expected 10 fields, saw 12\\nSkipping line 2810: expected 10 fields, saw 19\\nSkipping line 2817: expected 10 fields, saw 11\\nSkipping line 2831: expected 10 fields, saw 11\\nSkipping line 2835: expected 10 fields, saw 13\\nSkipping line 2837: expected 10 fields, saw 25\\nSkipping line 2841: expected 10 fields, saw 13\\nSkipping line 2842: expected 10 fields, saw 11\\nSkipping line 2848: expected 10 fields, saw 11\\nSkipping line 2885: expected 10 fields, saw 13\\nSkipping line 2901: expected 10 fields, saw 11\\nSkipping line 2902: expected 10 fields, saw 12\\nSkipping line 2903: expected 10 fields, saw 11\\nSkipping line 2922: expected 10 fields, saw 11\\nSkipping line 2923: expected 10 fields, saw 12\\nSkipping line 2924: expected 10 fields, saw 11\\nSkipping line 2931: expected 10 fields, saw 12\\nSkipping line 2940: expected 10 fields, saw 11\\nSkipping line 2955: expected 10 fields, saw 17\\nSkipping line 2958: expected 10 fields, saw 11\\nSkipping line 2971: expected 10 fields, saw 12\\nSkipping line 2972: expected 10 fields, saw 11\\nSkipping line 2995: expected 10 fields, saw 12\\nSkipping line 2998: expected 10 fields, saw 13\\nSkipping line 2999: expected 10 fields, saw 14\\nSkipping line 3007: expected 10 fields, saw 16\\nSkipping line 3019: expected 10 fields, saw 11\\nSkipping line 3035: expected 10 fields, saw 11\\nSkipping line 3064: expected 10 fields, saw 11\\nSkipping line 3066: expected 10 fields, saw 19\\nSkipping line 3069: expected 10 fields, saw 11\\nSkipping line 3079: expected 10 fields, saw 13\\nSkipping line 3080: expected 10 fields, saw 12\\nSkipping line 3086: expected 10 fields, saw 17\\nSkipping line 3092: expected 10 fields, saw 11\\nSkipping line 3106: expected 10 fields, saw 11\\nSkipping line 3117: expected 10 fields, saw 12\\nSkipping line 3120: expected 10 fields, saw 11\\nSkipping line 3122: expected 10 fields, saw 16\\nSkipping line 3125: expected 10 fields, saw 29\\nSkipping line 3126: expected 10 fields, saw 11\\nSkipping line 3127: expected 10 fields, saw 14\\nSkipping line 3152: expected 10 fields, saw 12\\nSkipping line 3159: expected 10 fields, saw 24\\nSkipping line 3169: expected 10 fields, saw 15\\nSkipping line 3221: expected 10 fields, saw 14\\nSkipping line 3234: expected 10 fields, saw 13\\nSkipping line 3235: expected 10 fields, saw 12\\nSkipping line 3253: expected 10 fields, saw 11\\nSkipping line 3257: expected 10 fields, saw 13\\nSkipping line 3274: expected 10 fields, saw 12\\nSkipping line 3283: expected 10 fields, saw 12\\nSkipping line 3288: expected 10 fields, saw 11\\nSkipping line 3289: expected 10 fields, saw 14\\nSkipping line 3290: expected 10 fields, saw 15\\nSkipping line 3308: expected 10 fields, saw 11\\nSkipping line 3309: expected 10 fields, saw 13\\nSkipping line 3310: expected 10 fields, saw 13\\nSkipping line 3325: expected 10 fields, saw 13\\nSkipping line 3329: expected 10 fields, saw 11\\nSkipping line 3338: expected 10 fields, saw 17\\nSkipping line 3339: expected 10 fields, saw 11\\nSkipping line 3344: expected 10 fields, saw 15\\nSkipping line 3350: expected 10 fields, saw 11\\nSkipping line 3361: expected 10 fields, saw 15\\nSkipping line 3362: expected 10 fields, saw 11\\nSkipping line 3375: expected 10 fields, saw 13\\nSkipping line 3376: expected 10 fields, saw 12\\nSkipping line 3377: expected 10 fields, saw 12\\nSkipping line 3378: expected 10 fields, saw 16\\nSkipping line 3384: expected 10 fields, saw 14\\nSkipping line 3385: expected 10 fields, saw 17\\nSkipping line 3386: expected 10 fields, saw 11\\nSkipping line 3403: expected 10 fields, saw 14\\nSkipping line 3404: expected 10 fields, saw 13\\nSkipping line 3405: expected 10 fields, saw 18\\nSkipping line 3413: expected 10 fields, saw 16\\nSkipping line 3414: expected 10 fields, saw 13\\nSkipping line 3422: expected 10 fields, saw 11\\nSkipping line 3423: expected 10 fields, saw 13\\nSkipping line 3435: expected 10 fields, saw 13\\nSkipping line 3437: expected 10 fields, saw 14\\nSkipping line 3438: expected 10 fields, saw 13\\nSkipping line 3439: expected 10 fields, saw 11\\nSkipping line 3442: expected 10 fields, saw 11\\nSkipping line 3443: expected 10 fields, saw 11\\nSkipping line 3467: expected 10 fields, saw 12\\nSkipping line 3468: expected 10 fields, saw 29\\nSkipping line 3470: expected 10 fields, saw 12\\nSkipping line 3471: expected 10 fields, saw 24\\nSkipping line 3474: expected 10 fields, saw 17\\nSkipping line 3475: expected 10 fields, saw 11\\nSkipping line 3476: expected 10 fields, saw 12\\nSkipping line 3478: expected 10 fields, saw 14\\nSkipping line 3479: expected 10 fields, saw 17\\nSkipping line 3480: expected 10 fields, saw 11\\nSkipping line 3498: expected 10 fields, saw 15\\nSkipping line 3512: expected 10 fields, saw 16\\nSkipping line 3513: expected 10 fields, saw 13\\nSkipping line 3514: expected 10 fields, saw 13\\nSkipping line 3515: expected 10 fields, saw 12\\nSkipping line 3516: expected 10 fields, saw 14\\nSkipping line 3519: expected 10 fields, saw 15\\nSkipping line 3521: expected 10 fields, saw 13\\nSkipping line 3522: expected 10 fields, saw 17\\nSkipping line 3523: expected 10 fields, saw 11\\nSkipping line 3529: expected 10 fields, saw 12\\nSkipping line 3530: expected 10 fields, saw 23\\nSkipping line 3531: expected 10 fields, saw 13\\nSkipping line 3532: expected 10 fields, saw 12\\nSkipping line 3537: expected 10 fields, saw 13\\nSkipping line 3538: expected 10 fields, saw 26\\nSkipping line 3540: expected 10 fields, saw 12\\nSkipping line 3559: expected 10 fields, saw 13\\nSkipping line 3561: expected 10 fields, saw 11\\nSkipping line 3565: expected 10 fields, saw 12\\nSkipping line 3566: expected 10 fields, saw 25\\nSkipping line 3567: expected 10 fields, saw 11\\nSkipping line 3568: expected 10 fields, saw 21\\nSkipping line 3591: expected 10 fields, saw 12\\nSkipping line 3592: expected 10 fields, saw 12\\nSkipping line 3595: expected 10 fields, saw 14\\nSkipping line 3615: expected 10 fields, saw 12\\nSkipping line 3627: expected 10 fields, saw 12\\nSkipping line 3634: expected 10 fields, saw 17\\nSkipping line 3641: expected 10 fields, saw 11\\nSkipping line 3652: expected 10 fields, saw 12\\nSkipping line 3653: expected 10 fields, saw 13\\nSkipping line 3656: expected 10 fields, saw 15\\nSkipping line 3657: expected 10 fields, saw 12\\nSkipping line 3658: expected 10 fields, saw 22\\nSkipping line 3672: expected 10 fields, saw 11\\nSkipping line 3713: expected 10 fields, saw 19\\nSkipping line 3723: expected 10 fields, saw 11\\nSkipping line 3725: expected 10 fields, saw 13\\nSkipping line 3726: expected 10 fields, saw 14\\nSkipping line 3728: expected 10 fields, saw 12\\nSkipping line 3733: expected 10 fields, saw 14\\nSkipping line 3734: expected 10 fields, saw 12\\nSkipping line 3735: expected 10 fields, saw 15\\nSkipping line 3740: expected 10 fields, saw 11\\nSkipping line 3749: expected 10 fields, saw 12\\nSkipping line 3755: expected 10 fields, saw 11\\nSkipping line 3756: expected 10 fields, saw 12\\nSkipping line 3762: expected 10 fields, saw 11\\nSkipping line 3768: expected 10 fields, saw 13\\nSkipping line 3776: expected 10 fields, saw 12\\nSkipping line 3797: expected 10 fields, saw 11\\nSkipping line 3799: expected 10 fields, saw 11\\nSkipping line 3805: expected 10 fields, saw 12\\nSkipping line 3806: expected 10 fields, saw 12\\nSkipping line 3833: expected 10 fields, saw 12\\nSkipping line 3844: expected 10 fields, saw 22\\nSkipping line 3845: expected 10 fields, saw 12\\nSkipping line 3864: expected 10 fields, saw 19\\nSkipping line 3877: expected 10 fields, saw 11\\nSkipping line 3884: expected 10 fields, saw 13\\nSkipping line 3887: expected 10 fields, saw 18\\nSkipping line 3889: expected 10 fields, saw 11\\nSkipping line 3903: expected 10 fields, saw 13\\nSkipping line 3908: expected 10 fields, saw 12\\nSkipping line 3917: expected 10 fields, saw 12\\nSkipping line 3918: expected 10 fields, saw 12\\nSkipping line 3919: expected 10 fields, saw 17\\nSkipping line 3926: expected 10 fields, saw 13\\nSkipping line 3927: expected 10 fields, saw 12\\nSkipping line 3928: expected 10 fields, saw 11\\nSkipping line 3946: expected 10 fields, saw 12\\nSkipping line 3953: expected 10 fields, saw 12\\nSkipping line 3954: expected 10 fields, saw 11\\nSkipping line 3955: expected 10 fields, saw 11\\nSkipping line 3956: expected 10 fields, saw 14\\nSkipping line 3957: expected 10 fields, saw 11\\nSkipping line 3959: expected 10 fields, saw 17\\nSkipping line 3967: expected 10 fields, saw 16\\nSkipping line 3975: expected 10 fields, saw 11\\nSkipping line 3976: expected 10 fields, saw 12\\nSkipping line 3981: expected 10 fields, saw 14\\nSkipping line 3994: expected 10 fields, saw 14\\nSkipping line 3997: expected 10 fields, saw 11\\nSkipping line 4004: expected 10 fields, saw 11\\nSkipping line 4014: expected 10 fields, saw 12\\nSkipping line 4015: expected 10 fields, saw 12\\nSkipping line 4020: expected 10 fields, saw 11\\nSkipping line 4035: expected 10 fields, saw 11\\nSkipping line 4041: expected 10 fields, saw 16\\nSkipping line 4042: expected 10 fields, saw 12\\nSkipping line 4050: expected 10 fields, saw 20\\nSkipping line 4051: expected 10 fields, saw 11\\nSkipping line 4052: expected 10 fields, saw 13\\nSkipping line 4054: expected 10 fields, saw 11\\nSkipping line 4055: expected 10 fields, saw 12\\nSkipping line 4064: expected 10 fields, saw 11\\nSkipping line 4066: expected 10 fields, saw 11\\nSkipping line 4067: expected 10 fields, saw 14\\nSkipping line 4068: expected 10 fields, saw 11\\nSkipping line 4069: expected 10 fields, saw 11\\nSkipping line 4070: expected 10 fields, saw 11\\nSkipping line 4072: expected 10 fields, saw 11\\nSkipping line 4090: expected 10 fields, saw 15\\nSkipping line 4091: expected 10 fields, saw 14\\nSkipping line 4107: expected 10 fields, saw 13\\nSkipping line 4119: expected 10 fields, saw 13\\nSkipping line 4120: expected 10 fields, saw 17\\nSkipping line 4121: expected 10 fields, saw 11\\nSkipping line 4122: expected 10 fields, saw 12\\nSkipping line 4126: expected 10 fields, saw 12\\nSkipping line 4127: expected 10 fields, saw 11\\nSkipping line 4130: expected 10 fields, saw 18\\nSkipping line 4131: expected 10 fields, saw 12\\nSkipping line 4132: expected 10 fields, saw 12\\nSkipping line 4138: expected 10 fields, saw 12\\nSkipping line 4140: expected 10 fields, saw 12\\nSkipping line 4170: expected 10 fields, saw 13\\nSkipping line 4173: expected 10 fields, saw 17\\nSkipping line 4180: expected 10 fields, saw 13\\nSkipping line 4197: expected 10 fields, saw 13\\nSkipping line 4214: expected 10 fields, saw 16\\nSkipping line 4242: expected 10 fields, saw 17\\nSkipping line 4249: expected 10 fields, saw 11\\nSkipping line 4250: expected 10 fields, saw 22\\nSkipping line 4257: expected 10 fields, saw 11\\nSkipping line 4258: expected 10 fields, saw 11\\nSkipping line 4259: expected 10 fields, saw 12\\nSkipping line 4261: expected 10 fields, saw 13\\nSkipping line 4267: expected 10 fields, saw 11\\nSkipping line 4268: expected 10 fields, saw 14\\nSkipping line 4277: expected 10 fields, saw 11\\nSkipping line 4282: expected 10 fields, saw 20\\nSkipping line 4283: expected 10 fields, saw 17\\nSkipping line 4285: expected 10 fields, saw 14\\nSkipping line 4286: expected 10 fields, saw 18\\nSkipping line 4288: expected 10 fields, saw 11\\nSkipping line 4305: expected 10 fields, saw 12\\nSkipping line 4308: expected 10 fields, saw 15\\nSkipping line 4310: expected 10 fields, saw 12\\nSkipping line 4312: expected 10 fields, saw 12\\nSkipping line 4313: expected 10 fields, saw 11\\nSkipping line 4314: expected 10 fields, saw 12\\nSkipping line 4324: expected 10 fields, saw 17\\nSkipping line 4329: expected 10 fields, saw 12\\nSkipping line 4330: expected 10 fields, saw 17\\nSkipping line 4336: expected 10 fields, saw 12\\nSkipping line 4352: expected 10 fields, saw 11\\nSkipping line 4353: expected 10 fields, saw 13\\nSkipping line 4375: expected 10 fields, saw 11\\nSkipping line 4377: expected 10 fields, saw 12\\nSkipping line 4378: expected 10 fields, saw 12\\nSkipping line 4383: expected 10 fields, saw 11\\nSkipping line 4409: expected 10 fields, saw 15\\nSkipping line 4418: expected 10 fields, saw 11\\nSkipping line 4419: expected 10 fields, saw 11\\nSkipping line 4421: expected 10 fields, saw 13\\nSkipping line 4443: expected 10 fields, saw 12\\nSkipping line 4445: expected 10 fields, saw 13\\nSkipping line 4450: expected 10 fields, saw 11\\nSkipping line 4452: expected 10 fields, saw 12\\nSkipping line 4455: expected 10 fields, saw 12\\nSkipping line 4456: expected 10 fields, saw 11\\nSkipping line 4464: expected 10 fields, saw 14\\nSkipping line 4487: expected 10 fields, saw 12\\nSkipping line 4494: expected 10 fields, saw 15\\nSkipping line 4495: expected 10 fields, saw 13\\nSkipping line 4503: expected 10 fields, saw 11\\nSkipping line 4504: expected 10 fields, saw 11\\nSkipping line 4505: expected 10 fields, saw 18\\nSkipping line 4527: expected 10 fields, saw 12\\nSkipping line 4563: expected 10 fields, saw 11\\nSkipping line 4564: expected 10 fields, saw 24\\nSkipping line 4565: expected 10 fields, saw 11\\nSkipping line 4577: expected 10 fields, saw 12\\nSkipping line 4578: expected 10 fields, saw 14\\nSkipping line 4589: expected 10 fields, saw 13\\nSkipping line 4605: expected 10 fields, saw 15\\nSkipping line 4606: expected 10 fields, saw 12\\nSkipping line 4607: expected 10 fields, saw 16\\nSkipping line 4608: expected 10 fields, saw 19\\nSkipping line 4609: expected 10 fields, saw 11\\nSkipping line 4626: expected 10 fields, saw 11\\nSkipping line 4632: expected 10 fields, saw 13\\nSkipping line 4641: expected 10 fields, saw 13\\nSkipping line 4658: expected 10 fields, saw 35\\nSkipping line 4659: expected 10 fields, saw 12\\nSkipping line 4660: expected 10 fields, saw 11\\nSkipping line 4665: expected 10 fields, saw 11\\nSkipping line 4670: expected 10 fields, saw 14\\nSkipping line 4690: expected 10 fields, saw 11\\nSkipping line 4695: expected 10 fields, saw 14\\nSkipping line 4722: expected 10 fields, saw 13\\nSkipping line 4729: expected 10 fields, saw 11\\nSkipping line 4730: expected 10 fields, saw 12\\nSkipping line 4741: expected 10 fields, saw 12\\nSkipping line 4742: expected 10 fields, saw 11\\nSkipping line 4764: expected 10 fields, saw 12\\nSkipping line 4765: expected 10 fields, saw 13\\nSkipping line 4775: expected 10 fields, saw 11\\nSkipping line 4776: expected 10 fields, saw 11\\nSkipping line 4777: expected 10 fields, saw 11\\nSkipping line 4781: expected 10 fields, saw 28\\nSkipping line 4782: expected 10 fields, saw 11\\nSkipping line 4784: expected 10 fields, saw 11\\nSkipping line 4786: expected 10 fields, saw 11\\nSkipping line 4787: expected 10 fields, saw 20\\nSkipping line 4788: expected 10 fields, saw 11\\nSkipping line 4801: expected 10 fields, saw 11\\nSkipping line 4802: expected 10 fields, saw 27\\nSkipping line 4803: expected 10 fields, saw 11\\nSkipping line 4804: expected 10 fields, saw 18\\nSkipping line 4806: expected 10 fields, saw 12\\nSkipping line 4808: expected 10 fields, saw 16\\nSkipping line 4809: expected 10 fields, saw 11\\nSkipping line 4825: expected 10 fields, saw 17\\nSkipping line 4833: expected 10 fields, saw 11\\nSkipping line 4839: expected 10 fields, saw 13\\nSkipping line 4840: expected 10 fields, saw 12\\nSkipping line 4854: expected 10 fields, saw 11\\nSkipping line 4856: expected 10 fields, saw 19\\nSkipping line 4859: expected 10 fields, saw 12\\nSkipping line 4860: expected 10 fields, saw 11\\nSkipping line 4861: expected 10 fields, saw 12\\nSkipping line 4862: expected 10 fields, saw 12\\nSkipping line 4863: expected 10 fields, saw 11\\nSkipping line 4864: expected 10 fields, saw 14\\nSkipping line 4865: expected 10 fields, saw 15\\nSkipping line 4866: expected 10 fields, saw 11\\nSkipping line 4870: expected 10 fields, saw 14\\nSkipping line 4878: expected 10 fields, saw 12\\nSkipping line 4880: expected 10 fields, saw 14\\nSkipping line 4881: expected 10 fields, saw 12\\nSkipping line 4891: expected 10 fields, saw 11\\nSkipping line 4896: expected 10 fields, saw 11\\nSkipping line 4897: expected 10 fields, saw 11\\nSkipping line 4909: expected 10 fields, saw 14\\nSkipping line 4911: expected 10 fields, saw 11\\nSkipping line 4912: expected 10 fields, saw 12\\nSkipping line 4918: expected 10 fields, saw 20\\nSkipping line 4919: expected 10 fields, saw 11\\nSkipping line 4922: expected 10 fields, saw 20\\nSkipping line 4924: expected 10 fields, saw 11\\nSkipping line 4925: expected 10 fields, saw 13\\nSkipping line 4935: expected 10 fields, saw 12\\nSkipping line 4967: expected 10 fields, saw 12\\nSkipping line 4975: expected 10 fields, saw 13\\nSkipping line 4976: expected 10 fields, saw 12\\nSkipping line 4977: expected 10 fields, saw 11\\nSkipping line 4991: expected 10 fields, saw 11\\nSkipping line 5018: expected 10 fields, saw 14\\nSkipping line 5030: expected 10 fields, saw 19\\nSkipping line 5031: expected 10 fields, saw 13\\nSkipping line 5032: expected 10 fields, saw 11\\nSkipping line 5033: expected 10 fields, saw 11\\nSkipping line 5035: expected 10 fields, saw 13\\nSkipping line 5036: expected 10 fields, saw 11\\nSkipping line 5048: expected 10 fields, saw 11\\nSkipping line 5050: expected 10 fields, saw 12\\nSkipping line 5063: expected 10 fields, saw 13\\nSkipping line 5072: expected 10 fields, saw 11\\nSkipping line 5080: expected 10 fields, saw 16\\nSkipping line 5081: expected 10 fields, saw 11\\nSkipping line 5082: expected 10 fields, saw 16\\nSkipping line 5085: expected 10 fields, saw 13\\nSkipping line 5087: expected 10 fields, saw 12\\nSkipping line 5093: expected 10 fields, saw 18\\nSkipping line 5095: expected 10 fields, saw 11\\nSkipping line 5096: expected 10 fields, saw 11\\nSkipping line 5098: expected 10 fields, saw 13\\nSkipping line 5099: expected 10 fields, saw 11\\nSkipping line 5100: expected 10 fields, saw 17\\nSkipping line 5111: expected 10 fields, saw 11\\nSkipping line 5118: expected 10 fields, saw 11\\nSkipping line 5119: expected 10 fields, saw 14\\nSkipping line 5139: expected 10 fields, saw 13\\nSkipping line 5140: expected 10 fields, saw 13\\nSkipping line 5141: expected 10 fields, saw 12\\nSkipping line 5143: expected 10 fields, saw 15\\nSkipping line 5151: expected 10 fields, saw 11\\nSkipping line 5155: expected 10 fields, saw 14\\nSkipping line 5170: expected 10 fields, saw 11\\nSkipping line 5175: expected 10 fields, saw 11\\nSkipping line 5180: expected 10 fields, saw 12\\nSkipping line 5181: expected 10 fields, saw 11\\nSkipping line 5182: expected 10 fields, saw 23\\nSkipping line 5188: expected 10 fields, saw 17\\nSkipping line 5189: expected 10 fields, saw 11\\nSkipping line 5195: expected 10 fields, saw 17\\nSkipping line 5196: expected 10 fields, saw 11\\nSkipping line 5198: expected 10 fields, saw 14\\nSkipping line 5234: expected 10 fields, saw 11\\nSkipping line 5235: expected 10 fields, saw 12\\nSkipping line 5237: expected 10 fields, saw 11\\nSkipping line 5238: expected 10 fields, saw 13\\nSkipping line 5246: expected 10 fields, saw 18\\nSkipping line 5255: expected 10 fields, saw 11\\nSkipping line 5258: expected 10 fields, saw 12\\nSkipping line 5267: expected 10 fields, saw 14\\nSkipping line 5268: expected 10 fields, saw 11\\nSkipping line 5271: expected 10 fields, saw 11\\nSkipping line 5272: expected 10 fields, saw 13\\nSkipping line 5277: expected 10 fields, saw 17\\nSkipping line 5291: expected 10 fields, saw 14\\nSkipping line 5293: expected 10 fields, saw 12\\nSkipping line 5294: expected 10 fields, saw 12\\nSkipping line 5295: expected 10 fields, saw 16\\nSkipping line 5298: expected 10 fields, saw 13\\nSkipping line 5302: expected 10 fields, saw 14\\nSkipping line 5303: expected 10 fields, saw 11\\nSkipping line 5304: expected 10 fields, saw 13\\nSkipping line 5310: expected 10 fields, saw 11\\nSkipping line 5323: expected 10 fields, saw 14\\nSkipping line 5327: expected 10 fields, saw 14\\nSkipping line 5329: expected 10 fields, saw 12\\nSkipping line 5330: expected 10 fields, saw 15\\nSkipping line 5333: expected 10 fields, saw 11\\nSkipping line 5334: expected 10 fields, saw 13\\nSkipping line 5335: expected 10 fields, saw 22\\nSkipping line 5363: expected 10 fields, saw 17\\nSkipping line 5364: expected 10 fields, saw 12\\nSkipping line 5377: expected 10 fields, saw 12\\nSkipping line 5378: expected 10 fields, saw 11\\nSkipping line 5384: expected 10 fields, saw 12\\nSkipping line 5385: expected 10 fields, saw 11\\nSkipping line 5392: expected 10 fields, saw 14\\nSkipping line 5394: expected 10 fields, saw 16\\nSkipping line 5395: expected 10 fields, saw 13\\nSkipping line 5406: expected 10 fields, saw 17\\nSkipping line 5417: expected 10 fields, saw 34\\nSkipping line 5428: expected 10 fields, saw 19\\nSkipping line 5431: expected 10 fields, saw 11\\nSkipping line 5432: expected 10 fields, saw 12\\nSkipping line 5433: expected 10 fields, saw 11\\nSkipping line 5434: expected 10 fields, saw 15\\nSkipping line 5435: expected 10 fields, saw 15\\nSkipping line 5469: expected 10 fields, saw 11\\nSkipping line 5470: expected 10 fields, saw 16\\nSkipping line 5472: expected 10 fields, saw 11\\nSkipping line 5473: expected 10 fields, saw 11\\nSkipping line 5474: expected 10 fields, saw 12\\nSkipping line 5477: expected 10 fields, saw 17\\nSkipping line 5488: expected 10 fields, saw 12\\nSkipping line 5498: expected 10 fields, saw 12\\nSkipping line 5502: expected 10 fields, saw 13\\nSkipping line 5514: expected 10 fields, saw 12\\nSkipping line 5532: expected 10 fields, saw 16\\nSkipping line 5544: expected 10 fields, saw 13\\nSkipping line 5552: expected 10 fields, saw 14\\nSkipping line 5553: expected 10 fields, saw 15\\nSkipping line 5563: expected 10 fields, saw 13\\nSkipping line 5564: expected 10 fields, saw 11\\nSkipping line 5573: expected 10 fields, saw 12\\nSkipping line 5601: expected 10 fields, saw 14\\nSkipping line 5609: expected 10 fields, saw 11\\nSkipping line 5610: expected 10 fields, saw 12\\nSkipping line 5611: expected 10 fields, saw 19\\nSkipping line 5612: expected 10 fields, saw 13\\nSkipping line 5616: expected 10 fields, saw 12\\nSkipping line 5618: expected 10 fields, saw 11\\nSkipping line 5619: expected 10 fields, saw 11\\nSkipping line 5620: expected 10 fields, saw 11\\nSkipping line 5632: expected 10 fields, saw 12\\nSkipping line 5633: expected 10 fields, saw 11\\nSkipping line 5634: expected 10 fields, saw 11\\nSkipping line 5636: expected 10 fields, saw 11\\nSkipping line 5637: expected 10 fields, saw 11\\nSkipping line 5638: expected 10 fields, saw 12\\nSkipping line 5639: expected 10 fields, saw 11\\nSkipping line 5647: expected 10 fields, saw 12\\nSkipping line 5648: expected 10 fields, saw 14\\nSkipping line 5656: expected 10 fields, saw 12\\nSkipping line 5663: expected 10 fields, saw 15\\nSkipping line 5664: expected 10 fields, saw 13\\nSkipping line 5666: expected 10 fields, saw 13\\nSkipping line 5689: expected 10 fields, saw 12\\nSkipping line 5694: expected 10 fields, saw 16\\nSkipping line 5738: expected 10 fields, saw 13\\nSkipping line 5743: expected 10 fields, saw 13\\nSkipping line 5780: expected 10 fields, saw 16\\nSkipping line 5781: expected 10 fields, saw 13\\nSkipping line 5782: expected 10 fields, saw 12\\nSkipping line 5789: expected 10 fields, saw 17\\nSkipping line 5790: expected 10 fields, saw 11\\nSkipping line 5791: expected 10 fields, saw 11\\nSkipping line 5792: expected 10 fields, saw 14\\nSkipping line 5815: expected 10 fields, saw 14\\nSkipping line 5816: expected 10 fields, saw 11\\nSkipping line 5817: expected 10 fields, saw 11\\nSkipping line 5819: expected 10 fields, saw 11\\nSkipping line 5836: expected 10 fields, saw 12\\nSkipping line 5845: expected 10 fields, saw 24\\nSkipping line 5859: expected 10 fields, saw 13\\nSkipping line 5861: expected 10 fields, saw 19\\nSkipping line 5863: expected 10 fields, saw 19\\nSkipping line 5864: expected 10 fields, saw 14\\nSkipping line 5865: expected 10 fields, saw 14\\nSkipping line 5866: expected 10 fields, saw 12\\nSkipping line 5869: expected 10 fields, saw 11\\nSkipping line 5872: expected 10 fields, saw 14\\nSkipping line 5878: expected 10 fields, saw 12\\nSkipping line 5880: expected 10 fields, saw 16\\nSkipping line 5884: expected 10 fields, saw 13\\nSkipping line 5903: expected 10 fields, saw 11\\nSkipping line 5905: expected 10 fields, saw 11\\nSkipping line 5906: expected 10 fields, saw 16\\nSkipping line 5910: expected 10 fields, saw 18\\nSkipping line 5918: expected 10 fields, saw 11\\nSkipping line 5919: expected 10 fields, saw 13\\nSkipping line 5920: expected 10 fields, saw 14\\nSkipping line 5938: expected 10 fields, saw 11\\nSkipping line 5941: expected 10 fields, saw 20\\nSkipping line 5963: expected 10 fields, saw 14\\nSkipping line 5968: expected 10 fields, saw 11\\nSkipping line 5969: expected 10 fields, saw 11\\nSkipping line 5970: expected 10 fields, saw 22\\nSkipping line 5972: expected 10 fields, saw 15\\nSkipping line 5975: expected 10 fields, saw 15\\nSkipping line 5988: expected 10 fields, saw 12\\nSkipping line 5990: expected 10 fields, saw 14\\nSkipping line 6020: expected 10 fields, saw 12\\nSkipping line 6022: expected 10 fields, saw 11\\nSkipping line 6023: expected 10 fields, saw 11\\nSkipping line 6024: expected 10 fields, saw 11\\nSkipping line 6027: expected 10 fields, saw 11\\nSkipping line 6029: expected 10 fields, saw 11\\nSkipping line 6036: expected 10 fields, saw 11\\nSkipping line 6047: expected 10 fields, saw 12\\nSkipping line 6048: expected 10 fields, saw 15\\nSkipping line 6055: expected 10 fields, saw 13\\nSkipping line 6056: expected 10 fields, saw 11\\nSkipping line 6062: expected 10 fields, saw 29\\nSkipping line 6064: expected 10 fields, saw 18\\nSkipping line 6069: expected 10 fields, saw 11\\nSkipping line 6071: expected 10 fields, saw 12\\nSkipping line 6084: expected 10 fields, saw 12\\nSkipping line 6085: expected 10 fields, saw 12\\nSkipping line 6086: expected 10 fields, saw 11\\nSkipping line 6109: expected 10 fields, saw 11\\n'\n"
     ]
    }
   ],
   "source": [
    "import pandas as pd\n",
    "\n",
    "# Attempt to load the CSV file while skipping rows with inconsistent column counts\n",
    "try:\n",
    "    # Using 'error_bad_lines=False' to skip rows with errors in column counts\n",
    "    yelp_reviews_df = pd.read_csv('Yelp_Reviews_Corrupt.csv', error_bad_lines=False)\n",
    "   \n",
    "    # Print the first 5 rows to confirm successful loading\n",
    "    print(yelp_reviews_df.head())\n",
    "   \n",
    "except Exception as e:\n",
    "    # Print the exception message if an error occurs\n",
    "    print(\"An error occurred:\", e)"
   ]
  },
  {
   "cell_type": "markdown",
   "metadata": {},
   "source": [
    "Here’s a breakdown of each part:\n",
    "\n",
    "try-except Block:\n",
    "\n",
    "This structure is used to attempt an operation and handle any errors if they occur.\n",
    "In this case, we’re trying to load a CSV file that we know is corrupt. If it fails due to a row-length error or any other issue, the except block will catch the exception and print an error message.\n",
    "error_bad_lines=False Parameter:\n",
    "\n",
    "In versions of pandas before 1.3, error_bad_lines=False is used to skip rows where the number of columns doesn’t match the header row.\n",
    "In newer versions of pandas, this has been replaced with on_bad_lines='skip', which does the same thing but with additional options.\n",
    "This parameter is crucial for handling files like Yelp_Reviews_Corrupt.csv, where some rows have more columns than expected due to extra commas or other formatting issues.\n",
    "print(yelp_reviews_df.head()):\n",
    "\n",
    "If the file loads successfully, this line will print the first 5 rows so we can verify that the data was imported correctly.\n",
    "If an error occurs, the except block will capture and display an error message without stopping the program.\n",
    "By setting error_bad_lines=False, we ensure that the file can load even if some rows have irregular column counts. This allows us to work with most of the data while bypassing only the problematic rows."
   ]
  },
  {
   "cell_type": "markdown",
   "metadata": {},
   "source": [
    "## Summary\n",
    "\n",
    "Congratulations, you now practiced your Pandas-importing skills."
   ]
  }
 ],
 "metadata": {
  "kernelspec": {
   "display_name": "Python 3",
   "language": "python",
   "name": "python3"
  },
  "language_info": {
   "codemirror_mode": {
    "name": "ipython",
    "version": 3
   },
   "file_extension": ".py",
   "mimetype": "text/x-python",
   "name": "python",
   "nbconvert_exporter": "python",
   "pygments_lexer": "ipython3",
   "version": "3.8.5"
  }
 },
 "nbformat": 4,
 "nbformat_minor": 2
}
